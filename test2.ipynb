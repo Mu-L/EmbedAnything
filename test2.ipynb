{
 "cells": [
  {
   "cell_type": "code",
   "execution_count": null,
   "metadata": {},
   "outputs": [],
   "source": []
  },
  {
   "cell_type": "code",
   "execution_count": 1,
   "metadata": {},
   "outputs": [],
   "source": [
    "from python.embed_anything import *\n",
    "from python.embed_anything.vectorDB import PineconeAdapter"
   ]
  },
  {
   "cell_type": "code",
   "execution_count": 62,
   "metadata": {},
   "outputs": [
    {
     "data": {
      "text/plain": [
       "1536"
      ]
     },
     "execution_count": 62,
     "metadata": {},
     "output_type": "execute_result"
    }
   ],
   "source": [
    "len(data[0].embedding)"
   ]
  },
  {
   "cell_type": "code",
   "execution_count": 2,
   "metadata": {},
   "outputs": [],
   "source": [
    "\n",
    "# Initialize the PineconeEmbedder class\n",
    "api_key = \"\"\n",
    "index_name = \"anything\"\n",
    "dimension = 1536  # Replace with your model dimensions\n",
    "metric = \"cosine\"  # Replace with your model metric\n",
    "pinecone_embedder = PineconeAdapter(api_key, index_name=index_name, dimension=dimension, metric=metric)\n",
    "# Initialize the PineconeEmbedder class\n",
    "\n",
    "# Embed the audio files\n",
    "# Replace the line with a valid code snippet or remove it if not needed\n",
    "data = embed_file(\"test_files/test.pdf\", embeder=\"OpenAI\")\n",
    "# # Convert to Pinecone format\n",
    "embeddings = pinecone_embedder.convert_to_pinecone_format([data])\n",
    "\n",
    "# # Upsert into Pinecone\n",
    "# pinecone_embedder.upsert_embeddings(data)\n",
    "# Convert to Pinecone format\n",
    "# data = pinecone_embedder.convert_to_pinecone_format(embeddings)\n",
    "\n",
    "# # Upsert into Pinecone\n",
    "pinecone_embedder.upsert_embeddings(embeddings)"
   ]
  }
 ],
 "metadata": {
  "kernelspec": {
   "display_name": "venv",
   "language": "python",
   "name": "python3"
  },
  "language_info": {
   "codemirror_mode": {
    "name": "ipython",
    "version": 3
   },
   "file_extension": ".py",
   "mimetype": "text/x-python",
   "name": "python",
   "nbconvert_exporter": "python",
   "pygments_lexer": "ipython3",
   "version": "3.11.4"
  }
 },
 "nbformat": 4,
 "nbformat_minor": 2
}
