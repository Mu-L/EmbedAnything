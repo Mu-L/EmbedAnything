{
 "cells": [
  {
   "cell_type": "code",
   "execution_count": null,
   "metadata": {},
   "outputs": [],
   "source": []
  },
  {
   "cell_type": "code",
   "execution_count": 1,
   "metadata": {},
   "outputs": [
    {
     "name": "stderr",
     "output_type": "stream",
     "text": [
      "d:\\Projects\\EmbedAnything\\venv\\Lib\\site-packages\\pinecone\\data\\index.py:1: TqdmWarning: IProgress not found. Please update jupyter and ipywidgets. See https://ipywidgets.readthedocs.io/en/stable/user_install.html\n",
      "  from tqdm.autonotebook import tqdm\n"
     ]
    }
   ],
   "source": [
    "from python.embed_anything import *\n",
    "from python.embed_anything.vectorDB import PineconeEmbedder"
   ]
  },
  {
   "cell_type": "code",
   "execution_count": 62,
   "metadata": {},
   "outputs": [
    {
     "data": {
      "text/plain": [
       "1536"
      ]
     },
     "execution_count": 62,
     "metadata": {},
     "output_type": "execute_result"
    }
   ],
   "source": [
    "len(data[0].embedding)"
   ]
  },
  {
   "cell_type": "code",
   "execution_count": 3,
   "metadata": {},
   "outputs": [
    {
     "ename": "TypeError",
     "evalue": "PineconeEmbedder.__init__() missing 2 required positional arguments: 'dimension' and 'metric'",
     "output_type": "error",
     "traceback": [
      "\u001b[1;31m---------------------------------------------------------------------------\u001b[0m",
      "\u001b[1;31mTypeError\u001b[0m                                 Traceback (most recent call last)",
      "Cell \u001b[1;32mIn[3], line 6\u001b[0m\n\u001b[0;32m      4\u001b[0m dimension \u001b[38;5;241m=\u001b[39m \u001b[38;5;241m1536\u001b[39m  \u001b[38;5;66;03m# Replace with your model dimensions\u001b[39;00m\n\u001b[0;32m      5\u001b[0m metric \u001b[38;5;241m=\u001b[39m \u001b[38;5;124m\"\u001b[39m\u001b[38;5;124mcosine\u001b[39m\u001b[38;5;124m\"\u001b[39m  \u001b[38;5;66;03m# Replace with your model metric\u001b[39;00m\n\u001b[1;32m----> 6\u001b[0m pinecone_embedder \u001b[38;5;241m=\u001b[39m \u001b[43mPineconeEmbedder\u001b[49m\u001b[43m(\u001b[49m\u001b[43mapi_key\u001b[49m\u001b[43m,\u001b[49m\u001b[43m \u001b[49m\u001b[43mindex_name\u001b[49m\u001b[38;5;241;43m=\u001b[39;49m\u001b[43mindex_name\u001b[49m\u001b[43m)\u001b[49m\n\u001b[0;32m      7\u001b[0m \u001b[38;5;66;03m# Initialize the PineconeEmbedder class\u001b[39;00m\n\u001b[0;32m      8\u001b[0m \n\u001b[0;32m      9\u001b[0m \u001b[38;5;66;03m# Embed the audio files\u001b[39;00m\n\u001b[0;32m     10\u001b[0m \u001b[38;5;66;03m# Replace the line with a valid code snippet or remove it if not needed\u001b[39;00m\n\u001b[0;32m     11\u001b[0m data \u001b[38;5;241m=\u001b[39m embed_file(\u001b[38;5;124m\"\u001b[39m\u001b[38;5;124mtest_files/test.pdf\u001b[39m\u001b[38;5;124m\"\u001b[39m, embeder\u001b[38;5;241m=\u001b[39m\u001b[38;5;124m\"\u001b[39m\u001b[38;5;124mOpenAI\u001b[39m\u001b[38;5;124m\"\u001b[39m)\n",
      "\u001b[1;31mTypeError\u001b[0m: PineconeEmbedder.__init__() missing 2 required positional arguments: 'dimension' and 'metric'"
     ]
    }
   ],
   "source": [
    "\n",
    "# Initialize the PineconeEmbedder class\n",
    "api_key = \"b261129f-e04b-4ac3-9077-d6b1792ea6b0\"\n",
    "index_name = \"anything\"\n",
    "\n",
    "pinecone_embedder = PineconeEmbedder(api_key, index_name=index_name)\n",
    "# Initialize the PineconeEmbedder class\n",
    "\n",
    "# Embed the audio files\n",
    "# Replace the line with a valid code snippet or remove it if not needed\n",
    "data = embed_file(\"test_files/test.pdf\", embeder=\"OpenAI\")\n",
    "# # Convert to Pinecone format\n",
    "embeddings = pinecone_embedder.convert_to_pinecone_format([data])\n",
    "\n",
    "# # Upsert into Pinecone\n",
    "# pinecone_embedder.upsert_embeddings(data)\n",
    "# Convert to Pinecone format\n",
    "# data = pinecone_embedder.convert_to_pinecone_format(embeddings)\n",
    "\n",
    "# # Upsert into Pinecone\n",
    "pinecone_embedder.upsert_embeddings(embeddings)"
   ]
  }
 ],
 "metadata": {
  "kernelspec": {
   "display_name": "venv",
   "language": "python",
   "name": "python3"
  },
  "language_info": {
   "codemirror_mode": {
    "name": "ipython",
    "version": 3
   },
   "file_extension": ".py",
   "mimetype": "text/x-python",
   "name": "python",
   "nbconvert_exporter": "python",
   "pygments_lexer": "ipython3",
   "version": "3.11.4"
  }
 },
 "nbformat": 4,
 "nbformat_minor": 2
}
