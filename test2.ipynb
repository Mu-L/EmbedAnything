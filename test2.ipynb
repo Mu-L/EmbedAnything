{
 "cells": [
  {
   "cell_type": "code",
   "execution_count": 8,
   "metadata": {},
   "outputs": [],
   "source": [
    "from python.embed_anything import *\n",
    "from python.embed_anything.vectorDB import PineconeAdapter\n",
    "import os"
   ]
  },
  {
   "cell_type": "code",
   "execution_count": 10,
   "metadata": {},
   "outputs": [],
   "source": [
    "# Initialize the PineconeEmbedder class\n",
    "api_key = os.environ.get(\"PINECONE_API_KEY\")\n",
    "index_name = \"anything\"\n",
    "pinecone_adapter = PineconeAdapter(api_key, index_name=index_name)\n",
    "\n",
    "try:\n",
    "    pinecone_adapter.delete_index(\"anything\")\n",
    "except:\n",
    "    pass"
   ]
  },
  {
   "cell_type": "code",
   "execution_count": 11,
   "metadata": {},
   "outputs": [
    {
     "name": "stdout",
     "output_type": "stream",
     "text": [
      "Unicode mismatch true fi \"fi\" Ok(\"ﬁ\") [64257]\n",
      "Unicode mismatch true fl \"fl\" Ok(\"ﬂ\") [64258]\n",
      "Unicode mismatch true fi \"fi\" Ok(\"ﬁ\") [64257]\n",
      "Unicode mismatch true fl \"fl\" Ok(\"ﬂ\") [64258]\n",
      "{\"prompt_tokens\": 812, \"total_tokens\": 812}\n"
     ]
    }
   ],
   "source": [
    "# Initialize the PineconeEmbedder class\n",
    "\n",
    "pinecone_adapter.create_index(dimension = 1536, metric= \"cosine\")\n",
    "\n",
    "# Embed the audio files\n",
    "# Replace the line with a valid code snippet or remove it if not needed\n",
    "data = embed_file(\"test_files/test.pdf\", embeder=\"OpenAI\", adapter= pinecone_adapter)"
   ]
  }
 ],
 "metadata": {
  "kernelspec": {
   "display_name": "venv",
   "language": "python",
   "name": "python3"
  },
  "language_info": {
   "codemirror_mode": {
    "name": "ipython",
    "version": 3
   },
   "file_extension": ".py",
   "mimetype": "text/x-python",
   "name": "python",
   "nbconvert_exporter": "python",
   "pygments_lexer": "ipython3",
   "version": "3.11.9"
  }
 },
 "nbformat": 4,
 "nbformat_minor": 2
}
